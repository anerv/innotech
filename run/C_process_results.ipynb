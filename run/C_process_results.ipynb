{
 "cells": [
  {
   "cell_type": "markdown",
   "id": "20c2bdeb",
   "metadata": {},
   "source": [
    "# Process results"
   ]
  },
  {
   "cell_type": "code",
   "execution_count": 1,
   "id": "b029211b",
   "metadata": {},
   "outputs": [],
   "source": [
    "import subprocess\n",
    "from pathlib import Path\n",
    "\n",
    "this_path = Path().resolve()\n",
    "root_path = this_path.parent\n",
    "scripts_path = root_path / \"scripts\"\n"
   ]
  },
  {
   "cell_type": "code",
   "execution_count": 2,
   "id": "6ef09204",
   "metadata": {},
   "outputs": [],
   "source": [
    "scripts = [\n",
    "    \"C01_analyse_service_access.py\"\n",
    "]"
   ]
  },
  {
   "cell_type": "code",
   "execution_count": null,
   "id": "dbe13ac7",
   "metadata": {},
   "outputs": [],
   "source": [
    "for script in scripts:\n",
    "\n",
    "    print(f\"Running script: {script}\")\n",
    "    result = subprocess.run([\"python\", scripts_path / script], capture_output=True, text=True)\n",
    "\n",
    "    print(f\"Output from {script}:\")\n",
    "    print(result.stdout)\n",
    "\n",
    "    if result.stderr:\n",
    "        print(\"Error output:\")\n",
    "        print(result.stderr)\n",
    "\n",
    "# Check if the script ran successfully\n",
    "    if result.returncode != 0:\n",
    "        print(f\"Script {script} failed with return code {result.returncode}\")\n",
    "    else:\n",
    "        print(f\"Script {script} completed successfully.\")"
   ]
  }
 ],
 "metadata": {
  "kernelspec": {
   "display_name": "Python (innotech)",
   "language": "python",
   "name": "innotech"
  },
  "language_info": {
   "codemirror_mode": {
    "name": "ipython",
    "version": 3
   },
   "file_extension": ".py",
   "mimetype": "text/x-python",
   "name": "python",
   "nbconvert_exporter": "python",
   "pygments_lexer": "ipython3",
   "version": "3.13.5"
  }
 },
 "nbformat": 4,
 "nbformat_minor": 5
}
