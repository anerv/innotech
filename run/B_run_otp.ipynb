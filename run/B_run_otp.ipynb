{
 "cells": [
  {
   "cell_type": "markdown",
   "id": "462d6221",
   "metadata": {},
   "source": [
    "# Run OpenTripPlanner\n",
    "\n",
    "> **_NOTE:_** Remember to start OTP first."
   ]
  },
  {
   "cell_type": "code",
   "execution_count": 1,
   "id": "e014c498",
   "metadata": {},
   "outputs": [],
   "source": [
    "import subprocess\n",
    "from pathlib import Path\n",
    "\n",
    "this_path = Path().resolve()\n",
    "root_path = this_path.parent\n",
    "scripts_path = root_path / \"scripts\""
   ]
  },
  {
   "cell_type": "code",
   "execution_count": null,
   "id": "bc2f4d1a",
   "metadata": {},
   "outputs": [],
   "source": [
    "scripts = [\n",
    "    \"B00_find_nearest_destinations.py\",\n",
    "    \"B01_find_routes.py\",\n",
    "    \"B02_summarize_service_access.py\",\n",
    "]"
   ]
  },
  {
   "cell_type": "code",
   "execution_count": null,
   "id": "9b1cd769",
   "metadata": {},
   "outputs": [
    {
     "name": "stdout",
     "output_type": "stream",
     "text": [
      "Running script: B00_find_nearest_destinations.py\n"
     ]
    }
   ],
   "source": [
    "for script in scripts:\n",
    "\n",
    "    print(f\"Running script: {script}\")\n",
    "    result = subprocess.run(\n",
    "        [\"python\", scripts_path / script], capture_output=True, text=True\n",
    "    )\n",
    "\n",
    "    print(f\"Output from {script}:\")\n",
    "    print(result.stdout)\n",
    "\n",
    "    if result.stderr:\n",
    "        print(\"Error output:\")\n",
    "        print(result.stderr)\n",
    "\n",
    "    # Check if the script ran successfully\n",
    "    if result.returncode != 0:\n",
    "        print(f\"Script {script} failed with return code {result.returncode}\")\n",
    "    else:\n",
    "        print(f\"Script {script} completed successfully.\")"
   ]
  },
  {
   "cell_type": "code",
   "execution_count": null,
   "id": "505e52dd",
   "metadata": {},
   "outputs": [],
   "source": []
  }
 ],
 "metadata": {
  "kernelspec": {
   "display_name": "innotech",
   "language": "python",
   "name": "python3"
  },
  "language_info": {
   "codemirror_mode": {
    "name": "ipython",
    "version": 3
   },
   "file_extension": ".py",
   "mimetype": "text/x-python",
   "name": "python",
   "nbconvert_exporter": "python",
   "pygments_lexer": "ipython3",
   "version": "3.12.11"
  }
 },
 "nbformat": 4,
 "nbformat_minor": 5
}
