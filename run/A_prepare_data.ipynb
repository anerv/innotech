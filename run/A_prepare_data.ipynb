{
 "cells": [
  {
   "cell_type": "markdown",
   "id": "9969a709",
   "metadata": {},
   "source": [
    "# Prepare input data"
   ]
  },
  {
   "cell_type": "code",
   "execution_count": null,
   "id": "a15f8776",
   "metadata": {},
   "outputs": [],
   "source": [
    "import subprocess\n",
    "from pathlib import Path\n",
    "\n",
    "this_path = Path().resolve()\n",
    "root_path = this_path.parent\n",
    "scripts_path = root_path / \"scripts\""
   ]
  },
  {
   "cell_type": "code",
   "execution_count": null,
   "id": "36070f1b",
   "metadata": {},
   "outputs": [],
   "source": [
    "scripts = [\n",
    "    \"A00_prepare_study_area_boundary_data.py\",\n",
    "    \"A01_prepare_address_data.py\",\n",
    "    \"A02_prepare_bbr_address_data.py\",\n",
    "    \"A03_prepare_cvr_data.py\",\n",
    "    \"A04_download_process_osm_data.py\",\n",
    "    \"A05_combine_cvr_osm_data.py\",\n",
    "    \"A06_prepare_osm_otp_data.py\",\n",
    "]"
   ]
  },
  {
   "cell_type": "code",
   "execution_count": null,
   "id": "35d56578",
   "metadata": {},
   "outputs": [],
   "source": [
    "for script in scripts:\n",
    "\n",
    "    print(f\"Running script: {script}\")\n",
    "    result = subprocess.run(\n",
    "        [\"python\", scripts_path / script], capture_output=True, text=True\n",
    "    )\n",
    "\n",
    "    print(f\"Output from {script}:\")\n",
    "    print(result.stdout)\n",
    "\n",
    "    if result.stderr:\n",
    "        print(\"Error output:\")\n",
    "        print(result.stderr)\n",
    "\n",
    "    # Check if the script ran successfully\n",
    "    if result.returncode != 0:\n",
    "        print(f\"Script {script} failed with return code {result.returncode}\")\n",
    "    else:\n",
    "        print(f\"Script {script} completed successfully.\")\n",
    "\n",
    "    print(\"-\" * 40)  # Separator for readability"
   ]
  }
 ],
 "metadata": {
  "kernelspec": {
   "display_name": "innotech",
   "language": "python",
   "name": "python3"
  },
  "language_info": {
   "codemirror_mode": {
    "name": "ipython",
    "version": 3
   },
   "file_extension": ".py",
   "mimetype": "text/x-python",
   "name": "python",
   "nbconvert_exporter": "python",
   "pygments_lexer": "ipython3",
   "version": "3.12.11"
  }
 },
 "nbformat": 4,
 "nbformat_minor": 5
}
