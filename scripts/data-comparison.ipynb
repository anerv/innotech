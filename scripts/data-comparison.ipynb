{
 "cells": [
  {
   "cell_type": "markdown",
   "id": "18aaec31",
   "metadata": {},
   "source": [
    "# Comparison of CVR and OSM data\n",
    "\n"
   ]
  },
  {
   "cell_type": "code",
   "execution_count": null,
   "id": "4f19c26c",
   "metadata": {},
   "outputs": [],
   "source": [
    "# TODO: Include two tables (styled), map for OSM, map for CVR, and combined map for each category\n",
    "\n",
    "# TODO: Document issues (e.g. missing CVR codes, categories that do not map perfectly between CVR and OSM, missing addresses and geometries in CVR)"
   ]
  }
 ],
 "metadata": {
  "language_info": {
   "name": "python"
  }
 },
 "nbformat": 4,
 "nbformat_minor": 5
}
